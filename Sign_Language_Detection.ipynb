{
  "metadata": {
    "kernelspec": {
      "language": "python",
      "display_name": "Python 3",
      "name": "python3"
    },
    "language_info": {
      "name": "python",
      "version": "3.10.13",
      "mimetype": "text/x-python",
      "codemirror_mode": {
        "name": "ipython",
        "version": 3
      },
      "pygments_lexer": "ipython3",
      "nbconvert_exporter": "python",
      "file_extension": ".py"
    },
    "kaggle": {
      "accelerator": "gpu",
      "dataSources": [
        {
          "sourceId": 29550,
          "sourceType": "datasetVersion",
          "datasetId": 23079
        }
      ],
      "dockerImageVersionId": 30648,
      "isInternetEnabled": true,
      "language": "python",
      "sourceType": "notebook",
      "isGpuEnabled": true
    },
    "colab": {
      "provenance": [],
      "collapsed_sections": [
        "EX8brvCVwGuZ",
        "w_NS-IEowGuk",
        "6BQxcs_vwGuq",
        "IPnAJScWwGus",
        "mv-ubklrwGuy"
      ]
    }
  },
  "nbformat_minor": 0,
  "nbformat": 4,
  "cells": [
    {
      "cell_type": "markdown",
      "source": [
        "# **Environmental SetUp 🔩**"
      ],
      "metadata": {
        "_uuid": "8f2839f25d086af736a60e9eeb907d3b93b6e0e5",
        "_cell_guid": "b1076dfc-b9ad-4769-8c92-a6c4dae69d19",
        "id": "EX8brvCVwGuZ"
      }
    },
    {
      "cell_type": "markdown",
      "source": [
        "In this comprehensive notebook, we embark on an exhilarating journey to craft a cutting-edge model with the remarkable ability to discern sign language from images. Our mission is to not just meet but exceed the boundaries of conventional detection systems. To elevate the prowess of our model, we enthusiastically introduce an augmented dataset, injecting vitality and diversity into our training regimen. Buckle up as we traverse the fascinating landscape of sign language recognition, fusing the art of technology with the eloquence of non-verbal communication."
      ],
      "metadata": {
        "id": "qtcFZkfpwGue"
      }
    },
    {
      "cell_type": "code",
      "source": [
        "# Common Imports\n",
        "import os\n",
        "import pandas as pd\n",
        "import numpy as np\n",
        "import tensorflow as tf\n",
        "from tensorflow import keras\n",
        "from IPython.display import clear_output as cls\n",
        "\n",
        "# Data loading\n",
        "from keras.preprocessing.image import ImageDataGenerator\n",
        "\n",
        "# Data Visualization\n",
        "import plotly.express as px\n",
        "import matplotlib.pyplot as plt\n",
        "\n",
        "# Model Loading\n",
        "from tensorflow.keras import layers\n",
        "from tensorflow.keras import Sequential\n",
        "\n",
        "# Transfer Learning\n",
        "from tensorflow.keras.applications import InceptionV3, Xception\n",
        "from tensorflow.keras.applications import ResNet50V2, ResNet152V2\n",
        "from tensorflow.keras.applications import MobileNetV2, MobileNetV3Small\n",
        "\n",
        "# Model Tunning\n",
        "import keras_tuner as kt"
      ],
      "metadata": {
        "execution": {
          "iopub.status.busy": "2024-02-17T00:36:07.383314Z",
          "iopub.execute_input": "2024-02-17T00:36:07.383599Z",
          "iopub.status.idle": "2024-02-17T00:36:21.841855Z",
          "shell.execute_reply.started": "2024-02-17T00:36:07.383573Z",
          "shell.execute_reply": "2024-02-17T00:36:21.841022Z"
        },
        "trusted": true,
        "id": "7I3mb6ZIwGuf",
        "outputId": "a01e61f9-b797-4baf-9de9-1ec9d5ba0c81"
      },
      "execution_count": null,
      "outputs": [
        {
          "name": "stderr",
          "text": "2024-02-17 00:36:10.249179: E external/local_xla/xla/stream_executor/cuda/cuda_dnn.cc:9261] Unable to register cuDNN factory: Attempting to register factory for plugin cuDNN when one has already been registered\n2024-02-17 00:36:10.249262: E external/local_xla/xla/stream_executor/cuda/cuda_fft.cc:607] Unable to register cuFFT factory: Attempting to register factory for plugin cuFFT when one has already been registered\n2024-02-17 00:36:10.374753: E external/local_xla/xla/stream_executor/cuda/cuda_blas.cc:1515] Unable to register cuBLAS factory: Attempting to register factory for plugin cuBLAS when one has already been registered\n",
          "output_type": "stream"
        }
      ]
    },
    {
      "cell_type": "code",
      "source": [
        "# Constants and Random Seed\n",
        "IMAGE_SIZE = (224, 224)\n",
        "BATCH_SIZE = 64\n",
        "train_dir = \"/kaggle/input/asl-alphabet/asl_alphabet_train/asl_alphabet_train/\"\n",
        "test_dir  = \"/kaggle/input/asl-alphabet/asl_alphabet_test/asl_alphabet_test/\"\n",
        "\n",
        "np.random.seed(42)\n",
        "tf.random.set_seed(42)"
      ],
      "metadata": {
        "execution": {
          "iopub.status.busy": "2024-02-17T00:36:21.843456Z",
          "iopub.execute_input": "2024-02-17T00:36:21.844015Z",
          "iopub.status.idle": "2024-02-17T00:36:21.849199Z",
          "shell.execute_reply.started": "2024-02-17T00:36:21.843987Z",
          "shell.execute_reply": "2024-02-17T00:36:21.848204Z"
        },
        "trusted": true,
        "id": "4yrPRCqxwGuj"
      },
      "execution_count": null,
      "outputs": []
    },
    {
      "cell_type": "markdown",
      "source": [
        "# **Data Loading 🗃️**"
      ],
      "metadata": {
        "id": "w_NS-IEowGuk"
      }
    },
    {
      "cell_type": "markdown",
      "source": [
        "Recognizing the enormity of our dataset, we strategically opt for efficiency by harnessing the power of the image data generator bestowed by Keras. This ingenious approach not only accelerates the loading process but also affords us the luxury of on-the-fly data preprocessing. No longer confined by the limitations of memory, our model embarks on a swift and dynamic journey through the expansive realms of sign language images."
      ],
      "metadata": {
        "id": "sIjAm5c3wGuk"
      }
    },
    {
      "cell_type": "code",
      "source": [
        "# Initialize Image Data Generator\n",
        "train_gen = ImageDataGenerator(\n",
        "    rescale = 1./255,\n",
        "    validation_split=0.2\n",
        ")\n",
        "\n",
        "# Loading Training Data\n",
        "train_data = train_gen.flow_from_directory(\n",
        "    directory = train_dir,\n",
        "    target_size = IMAGE_SIZE,\n",
        "    batch_size = BATCH_SIZE,\n",
        "    color_mode = \"rgb\",\n",
        "    class_mode = \"binary\",\n",
        "    shuffle = True,\n",
        "    subset = 'training',\n",
        "    seed = 42\n",
        ")"
      ],
      "metadata": {
        "execution": {
          "iopub.status.busy": "2024-02-17T00:36:21.854535Z",
          "iopub.execute_input": "2024-02-17T00:36:21.854964Z",
          "iopub.status.idle": "2024-02-17T00:38:33.496735Z",
          "shell.execute_reply.started": "2024-02-17T00:36:21.854932Z",
          "shell.execute_reply": "2024-02-17T00:38:33.495717Z"
        },
        "trusted": true,
        "id": "xd46CwLDwGul",
        "outputId": "d3e39fd5-45e7-45ea-8943-95eebb0a0b40"
      },
      "execution_count": null,
      "outputs": [
        {
          "name": "stdout",
          "text": "Found 69600 images belonging to 29 classes.\n",
          "output_type": "stream"
        }
      ]
    },
    {
      "cell_type": "code",
      "source": [
        "# Mapping from classes to numeric values\n",
        "classes_to_num = train_data.class_indices\n",
        "num_to_classes = {value:key for key, value in classes_to_num.items()}\n",
        "\n",
        "print(f\"Class to Number Mapping:\")\n",
        "for alphabet, num in classes_to_num.items():\n",
        "    print(f\"{alphabet:10} -> {num}\")"
      ],
      "metadata": {
        "execution": {
          "iopub.status.busy": "2024-02-17T00:38:33.498191Z",
          "iopub.execute_input": "2024-02-17T00:38:33.498616Z",
          "iopub.status.idle": "2024-02-17T00:38:33.505651Z",
          "shell.execute_reply.started": "2024-02-17T00:38:33.498583Z",
          "shell.execute_reply": "2024-02-17T00:38:33.504698Z"
        },
        "trusted": true,
        "id": "YEjOSJPxwGun",
        "outputId": "8661183a-68fa-4285-8f74-7ef5faf6d168"
      },
      "execution_count": null,
      "outputs": [
        {
          "name": "stdout",
          "text": "Class to Number Mapping:\nA          -> 0\nB          -> 1\nC          -> 2\nD          -> 3\nE          -> 4\nF          -> 5\nG          -> 6\nH          -> 7\nI          -> 8\nJ          -> 9\nK          -> 10\nL          -> 11\nM          -> 12\nN          -> 13\nO          -> 14\nP          -> 15\nQ          -> 16\nR          -> 17\nS          -> 18\nT          -> 19\nU          -> 20\nV          -> 21\nW          -> 22\nX          -> 23\nY          -> 24\nZ          -> 25\ndel        -> 26\nnothing    -> 27\nspace      -> 28\n",
          "output_type": "stream"
        }
      ]
    },
    {
      "cell_type": "code",
      "source": [
        "# Loading Validation Data\n",
        "valid_data = train_gen.flow_from_directory(\n",
        "    directory = train_dir,\n",
        "    target_size = IMAGE_SIZE,\n",
        "    batch_size = BATCH_SIZE,\n",
        "    color_mode = \"rgb\",\n",
        "    class_mode = \"binary\",\n",
        "    subset = 'validation',\n",
        "    seed = 42\n",
        ")"
      ],
      "metadata": {
        "execution": {
          "iopub.status.busy": "2024-02-17T00:38:33.506779Z",
          "iopub.execute_input": "2024-02-17T00:38:33.507113Z",
          "iopub.status.idle": "2024-02-17T00:39:35.848574Z",
          "shell.execute_reply.started": "2024-02-17T00:38:33.507082Z",
          "shell.execute_reply": "2024-02-17T00:39:35.847799Z"
        },
        "trusted": true,
        "id": "b4jiC5UCwGun",
        "outputId": "91556451-c017-4a37-a127-9c3a8d0f7a4d"
      },
      "execution_count": null,
      "outputs": [
        {
          "name": "stdout",
          "text": "Found 17400 images belonging to 29 classes.\n",
          "output_type": "stream"
        }
      ]
    },
    {
      "cell_type": "code",
      "source": [
        "# Testing data\n",
        "test_files = os.listdir(test_dir)\n",
        "\n",
        "test_images = np.empty(shape=(len(test_files), *IMAGE_SIZE, 3), dtype=np.float32)\n",
        "test_labels = np.empty(shape=(len(test_files), 1), dtype=np.int32)\n",
        "\n",
        "for index, file in enumerate(test_files):\n",
        "\n",
        "    # Loading and Processing image file\n",
        "    img = tf.io.read_file(os.path.join(test_dir, file))\n",
        "    img = tf.image.decode_jpeg(img, channels=3)\n",
        "    img = tf.image.resize(img, IMAGE_SIZE)\n",
        "    img = tf.cast(img, tf.float32)/255.\n",
        "\n",
        "    # Extract Label\n",
        "    label = classes_to_num[file.split(\"_\")[0]]\n",
        "\n",
        "    # Add the loaded file and label to data\n",
        "    test_images[index], test_labels[index] = img, label"
      ],
      "metadata": {
        "execution": {
          "iopub.status.busy": "2024-02-17T00:39:35.849817Z",
          "iopub.execute_input": "2024-02-17T00:39:35.850477Z",
          "iopub.status.idle": "2024-02-17T00:39:36.860445Z",
          "shell.execute_reply.started": "2024-02-17T00:39:35.850441Z",
          "shell.execute_reply": "2024-02-17T00:39:36.859685Z"
        },
        "trusted": true,
        "id": "QF9CXas3wGuo"
      },
      "execution_count": null,
      "outputs": []
    },
    {
      "cell_type": "code",
      "source": [
        "# Confirmation check\n",
        "print(np.squeeze(test_labels))"
      ],
      "metadata": {
        "execution": {
          "iopub.status.busy": "2024-02-17T00:39:36.861538Z",
          "iopub.execute_input": "2024-02-17T00:39:36.861825Z",
          "iopub.status.idle": "2024-02-17T00:39:36.866652Z",
          "shell.execute_reply.started": "2024-02-17T00:39:36.861801Z",
          "shell.execute_reply": "2024-02-17T00:39:36.865824Z"
        },
        "trusted": true,
        "id": "sf-qTtfwwGup",
        "outputId": "4600daf8-3c03-489f-b6cd-b5e5710f300b"
      },
      "execution_count": null,
      "outputs": [
        {
          "name": "stdout",
          "text": "[ 0  4 11 13 18  3  6  8 22 12 27 23  7 16  2 19 15 21 24 20 28 14  1 17\n  5 25  9 10]\n",
          "output_type": "stream"
        }
      ]
    },
    {
      "cell_type": "markdown",
      "source": [
        "# **Data Visualization 📊**"
      ],
      "metadata": {
        "id": "6BQxcs_vwGuq"
      }
    },
    {
      "cell_type": "markdown",
      "source": [
        "Having successfully loaded the dataset into memory, it's now imperative to embark on a visual exploration that transcends mere data inspection. Visualization becomes our lens to decipher subtle nuances, confirm assumptions, and unravel the captivating patterns woven within the fabric of our sign language images.\n",
        "\n",
        "This essential step not only refines our understanding of the data but also humanizes the information, enabling us to forge a profound connection between the raw pixels and the expressive gestures they encapsulate."
      ],
      "metadata": {
        "id": "VOTCSyj3wGuq"
      }
    },
    {
      "cell_type": "code",
      "source": [
        "# Collecting class data\n",
        "n_classes = train_data.num_classes\n",
        "class_names = sorted(os.listdir(train_dir))\n",
        "\n",
        "print(f\"Number of Classes: {n_classes}\")\n",
        "\n",
        "# Computing class distribution\n",
        "class_dis = [len(os.listdir(train_dir + class_name)) for class_name in class_names]"
      ],
      "metadata": {
        "execution": {
          "iopub.status.busy": "2024-02-17T00:39:36.867739Z",
          "iopub.execute_input": "2024-02-17T00:39:36.867996Z",
          "iopub.status.idle": "2024-02-17T00:39:37.027320Z",
          "shell.execute_reply.started": "2024-02-17T00:39:36.867973Z",
          "shell.execute_reply": "2024-02-17T00:39:37.026357Z"
        },
        "trusted": true,
        "id": "Tk3wu57CwGur",
        "outputId": "c451dd73-1d4a-4608-cb31-6e6433d5634e"
      },
      "execution_count": null,
      "outputs": [
        {
          "name": "stdout",
          "text": "Number of Classes: 29\n",
          "output_type": "stream"
        }
      ]
    },
    {
      "cell_type": "code",
      "source": [
        "# Visualizing Class Distribution\n",
        "pie_plot = px.pie(\n",
        "    names = class_names,\n",
        "    values = class_dis,\n",
        "    color = class_names,\n",
        "    hole = .4,\n",
        "    title = \"ASL Class Distribution\"\n",
        ")\n",
        "pie_plot.show()\n",
        "\n",
        "bar_plot = px.bar(\n",
        "    x = class_names,\n",
        "    y = class_dis,\n",
        "    color = class_names,\n",
        "    title = \"ASL Class Distribution\"\n",
        ")\n",
        "bar_plot.update_layout(showlegend=False, yaxis_title=\"Frequency Count\", xaxis_title=None)\n",
        "bar_plot.show()"
      ],
      "metadata": {
        "execution": {
          "iopub.status.busy": "2024-02-17T00:39:37.031212Z",
          "iopub.execute_input": "2024-02-17T00:39:37.031836Z",
          "iopub.status.idle": "2024-02-17T00:39:38.676314Z",
          "shell.execute_reply.started": "2024-02-17T00:39:37.031808Z",
          "shell.execute_reply": "2024-02-17T00:39:38.675396Z"
        },
        "trusted": true,
        "id": "PcsIye4-wGur",
        "outputId": "7aa7d681-7faa-4b07-cc30-36af24ab8177"
      },
      "execution_count": null,
      "outputs": [
        {
          "output_type": "display_data",
          "data": {
            "text/html": "        <script type=\"text/javascript\">\n        window.PlotlyConfig = {MathJaxConfig: 'local'};\n        if (window.MathJax && window.MathJax.Hub && window.MathJax.Hub.Config) {window.MathJax.Hub.Config({SVG: {font: \"STIX-Web\"}});}\n        if (typeof require !== 'undefined') {\n        require.undef(\"plotly\");\n        requirejs.config({\n            paths: {\n                'plotly': ['https://cdn.plot.ly/plotly-2.27.0.min']\n            }\n        });\n        require(['plotly'], function(Plotly) {\n            window._Plotly = Plotly;\n        });\n        }\n        </script>\n        "
          },
          "metadata": {}
        },
        {
          "output_type": "display_data",
          "data": {
            "text/html": "<div>                            <div id=\"9ced8b70-01f3-4888-ae5a-01067c15804b\" class=\"plotly-graph-div\" style=\"height:525px; width:100%;\"></div>            <script type=\"text/javascript\">                require([\"plotly\"], function(Plotly) {                    window.PLOTLYENV=window.PLOTLYENV || {};                                    if (document.getElementById(\"9ced8b70-01f3-4888-ae5a-01067c15804b\")) {                    Plotly.newPlot(                        \"9ced8b70-01f3-4888-ae5a-01067c15804b\",                        [{\"customdata\":[[\"A\"],[\"B\"],[\"C\"],[\"D\"],[\"E\"],[\"F\"],[\"G\"],[\"H\"],[\"I\"],[\"J\"],[\"K\"],[\"L\"],[\"M\"],[\"N\"],[\"O\"],[\"P\"],[\"Q\"],[\"R\"],[\"S\"],[\"T\"],[\"U\"],[\"V\"],[\"W\"],[\"X\"],[\"Y\"],[\"Z\"],[\"del\"],[\"nothing\"],[\"space\"]],\"domain\":{\"x\":[0.0,1.0],\"y\":[0.0,1.0]},\"hole\":0.4,\"hovertemplate\":\"label=%{label}\\u003cbr\\u003evalue=%{value}\\u003cbr\\u003ecolor=%{customdata[0]}\\u003cextra\\u003e\\u003c\\u002fextra\\u003e\",\"labels\":[\"A\",\"B\",\"C\",\"D\",\"E\",\"F\",\"G\",\"H\",\"I\",\"J\",\"K\",\"L\",\"M\",\"N\",\"O\",\"P\",\"Q\",\"R\",\"S\",\"T\",\"U\",\"V\",\"W\",\"X\",\"Y\",\"Z\",\"del\",\"nothing\",\"space\"],\"legendgroup\":\"\",\"marker\":{\"colors\":[\"#636efa\",\"#EF553B\",\"#00cc96\",\"#ab63fa\",\"#FFA15A\",\"#19d3f3\",\"#FF6692\",\"#B6E880\",\"#FF97FF\",\"#FECB52\",\"#636efa\",\"#EF553B\",\"#00cc96\",\"#ab63fa\",\"#FFA15A\",\"#19d3f3\",\"#FF6692\",\"#B6E880\",\"#FF97FF\",\"#FECB52\",\"#636efa\",\"#EF553B\",\"#00cc96\",\"#ab63fa\",\"#FFA15A\",\"#19d3f3\",\"#FF6692\",\"#B6E880\",\"#FF97FF\"]},\"name\":\"\",\"showlegend\":true,\"values\":[3000,3000,3000,3000,3000,3000,3000,3000,3000,3000,3000,3000,3000,3000,3000,3000,3000,3000,3000,3000,3000,3000,3000,3000,3000,3000,3000,3000,3000],\"type\":\"pie\"}],                        {\"template\":{\"data\":{\"histogram2dcontour\":[{\"type\":\"histogram2dcontour\",\"colorbar\":{\"outlinewidth\":0,\"ticks\":\"\"},\"colorscale\":[[0.0,\"#0d0887\"],[0.1111111111111111,\"#46039f\"],[0.2222222222222222,\"#7201a8\"],[0.3333333333333333,\"#9c179e\"],[0.4444444444444444,\"#bd3786\"],[0.5555555555555556,\"#d8576b\"],[0.6666666666666666,\"#ed7953\"],[0.7777777777777778,\"#fb9f3a\"],[0.8888888888888888,\"#fdca26\"],[1.0,\"#f0f921\"]]}],\"choropleth\":[{\"type\":\"choropleth\",\"colorbar\":{\"outlinewidth\":0,\"ticks\":\"\"}}],\"histogram2d\":[{\"type\":\"histogram2d\",\"colorbar\":{\"outlinewidth\":0,\"ticks\":\"\"},\"colorscale\":[[0.0,\"#0d0887\"],[0.1111111111111111,\"#46039f\"],[0.2222222222222222,\"#7201a8\"],[0.3333333333333333,\"#9c179e\"],[0.4444444444444444,\"#bd3786\"],[0.5555555555555556,\"#d8576b\"],[0.6666666666666666,\"#ed7953\"],[0.7777777777777778,\"#fb9f3a\"],[0.8888888888888888,\"#fdca26\"],[1.0,\"#f0f921\"]]}],\"heatmap\":[{\"type\":\"heatmap\",\"colorbar\":{\"outlinewidth\":0,\"ticks\":\"\"},\"colorscale\":[[0.0,\"#0d0887\"],[0.1111111111111111,\"#46039f\"],[0.2222222222222222,\"#7201a8\"],[0.3333333333333333,\"#9c179e\"],[0.4444444444444444,\"#bd3786\"],[0.5555555555555556,\"#d8576b\"],[0.6666666666666666,\"#ed7953\"],[0.7777777777777778,\"#fb9f3a\"],[0.8888888888888888,\"#fdca26\"],[1.0,\"#f0f921\"]]}],\"heatmapgl\":[{\"type\":\"heatmapgl\",\"colorbar\":{\"outlinewidth\":0,\"ticks\":\"\"},\"colorscale\":[[0.0,\"#0d0887\"],[0.1111111111111111,\"#46039f\"],[0.2222222222222222,\"#7201a8\"],[0.3333333333333333,\"#9c179e\"],[0.4444444444444444,\"#bd3786\"],[0.5555555555555556,\"#d8576b\"],[0.6666666666666666,\"#ed7953\"],[0.7777777777777778,\"#fb9f3a\"],[0.8888888888888888,\"#fdca26\"],[1.0,\"#f0f921\"]]}],\"contourcarpet\":[{\"type\":\"contourcarpet\",\"colorbar\":{\"outlinewidth\":0,\"ticks\":\"\"}}],\"contour\":[{\"type\":\"contour\",\"colorbar\":{\"outlinewidth\":0,\"ticks\":\"\"},\"colorscale\":[[0.0,\"#0d0887\"],[0.1111111111111111,\"#46039f\"],[0.2222222222222222,\"#7201a8\"],[0.3333333333333333,\"#9c179e\"],[0.4444444444444444,\"#bd3786\"],[0.5555555555555556,\"#d8576b\"],[0.6666666666666666,\"#ed7953\"],[0.7777777777777778,\"#fb9f3a\"],[0.8888888888888888,\"#fdca26\"],[1.0,\"#f0f921\"]]}],\"surface\":[{\"type\":\"surface\",\"colorbar\":{\"outlinewidth\":0,\"ticks\":\"\"},\"colorscale\":[[0.0,\"#0d0887\"],[0.1111111111111111,\"#46039f\"],[0.2222222222222222,\"#7201a8\"],[0.3333333333333333,\"#9c179e\"],[0.4444444444444444,\"#bd3786\"],[0.5555555555555556,\"#d8576b\"],[0.6666666666666666,\"#ed7953\"],[0.7777777777777778,\"#fb9f3a\"],[0.8888888888888888,\"#fdca26\"],[1.0,\"#f0f921\"]]}],\"mesh3d\":[{\"type\":\"mesh3d\",\"colorbar\":{\"outlinewidth\":0,\"ticks\":\"\"}}],\"scatter\":[{\"fillpattern\":{\"fillmode\":\"overlay\",\"size\":10,\"solidity\":0.2},\"type\":\"scatter\"}],\"parcoords\":[{\"type\":\"parcoords\",\"line\":{\"colorbar\":{\"outlinewidth\":0,\"ticks\":\"\"}}}],\"scatterpolargl\":[{\"type\":\"scatterpolargl\",\"marker\":{\"colorbar\":{\"outlinewidth\":0,\"ticks\":\"\"}}}],\"bar\":[{\"error_x\":{\"color\":\"#2a3f5f\"},\"error_y\":{\"color\":\"#2a3f5f\"},\"marker\":{\"line\":{\"color\":\"#E5ECF6\",\"width\":0.5},\"pattern\":{\"fillmode\":\"overlay\",\"size\":10,\"solidity\":0.2}},\"type\":\"bar\"}],\"scattergeo\":[{\"type\":\"scattergeo\",\"marker\":{\"colorbar\":{\"outlinewidth\":0,\"ticks\":\"\"}}}],\"scatterpolar\":[{\"type\":\"scatterpolar\",\"marker\":{\"colorbar\":{\"outlinewidth\":0,\"ticks\":\"\"}}}],\"histogram\":[{\"marker\":{\"pattern\":{\"fillmode\":\"overlay\",\"size\":10,\"solidity\":0.2}},\"type\":\"histogram\"}],\"scattergl\":[{\"type\":\"scattergl\",\"marker\":{\"colorbar\":{\"outlinewidth\":0,\"ticks\":\"\"}}}],\"scatter3d\":[{\"type\":\"scatter3d\",\"line\":{\"colorbar\":{\"outlinewidth\":0,\"ticks\":\"\"}},\"marker\":{\"colorbar\":{\"outlinewidth\":0,\"ticks\":\"\"}}}],\"scattermapbox\":[{\"type\":\"scattermapbox\",\"marker\":{\"colorbar\":{\"outlinewidth\":0,\"ticks\":\"\"}}}],\"scatterternary\":[{\"type\":\"scatterternary\",\"marker\":{\"colorbar\":{\"outlinewidth\":0,\"ticks\":\"\"}}}],\"scattercarpet\":[{\"type\":\"scattercarpet\",\"marker\":{\"colorbar\":{\"outlinewidth\":0,\"ticks\":\"\"}}}],\"carpet\":[{\"aaxis\":{\"endlinecolor\":\"#2a3f5f\",\"gridcolor\":\"white\",\"linecolor\":\"white\",\"minorgridcolor\":\"white\",\"startlinecolor\":\"#2a3f5f\"},\"baxis\":{\"endlinecolor\":\"#2a3f5f\",\"gridcolor\":\"white\",\"linecolor\":\"white\",\"minorgridcolor\":\"white\",\"startlinecolor\":\"#2a3f5f\"},\"type\":\"carpet\"}],\"table\":[{\"cells\":{\"fill\":{\"color\":\"#EBF0F8\"},\"line\":{\"color\":\"white\"}},\"header\":{\"fill\":{\"color\":\"#C8D4E3\"},\"line\":{\"color\":\"white\"}},\"type\":\"table\"}],\"barpolar\":[{\"marker\":{\"line\":{\"color\":\"#E5ECF6\",\"width\":0.5},\"pattern\":{\"fillmode\":\"overlay\",\"size\":10,\"solidity\":0.2}},\"type\":\"barpolar\"}],\"pie\":[{\"automargin\":true,\"type\":\"pie\"}]},\"layout\":{\"autotypenumbers\":\"strict\",\"colorway\":[\"#636efa\",\"#EF553B\",\"#00cc96\",\"#ab63fa\",\"#FFA15A\",\"#19d3f3\",\"#FF6692\",\"#B6E880\",\"#FF97FF\",\"#FECB52\"],\"font\":{\"color\":\"#2a3f5f\"},\"hovermode\":\"closest\",\"hoverlabel\":{\"align\":\"left\"},\"paper_bgcolor\":\"white\",\"plot_bgcolor\":\"#E5ECF6\",\"polar\":{\"bgcolor\":\"#E5ECF6\",\"angularaxis\":{\"gridcolor\":\"white\",\"linecolor\":\"white\",\"ticks\":\"\"},\"radialaxis\":{\"gridcolor\":\"white\",\"linecolor\":\"white\",\"ticks\":\"\"}},\"ternary\":{\"bgcolor\":\"#E5ECF6\",\"aaxis\":{\"gridcolor\":\"white\",\"linecolor\":\"white\",\"ticks\":\"\"},\"baxis\":{\"gridcolor\":\"white\",\"linecolor\":\"white\",\"ticks\":\"\"},\"caxis\":{\"gridcolor\":\"white\",\"linecolor\":\"white\",\"ticks\":\"\"}},\"coloraxis\":{\"colorbar\":{\"outlinewidth\":0,\"ticks\":\"\"}},\"colorscale\":{\"sequential\":[[0.0,\"#0d0887\"],[0.1111111111111111,\"#46039f\"],[0.2222222222222222,\"#7201a8\"],[0.3333333333333333,\"#9c179e\"],[0.4444444444444444,\"#bd3786\"],[0.5555555555555556,\"#d8576b\"],[0.6666666666666666,\"#ed7953\"],[0.7777777777777778,\"#fb9f3a\"],[0.8888888888888888,\"#fdca26\"],[1.0,\"#f0f921\"]],\"sequentialminus\":[[0.0,\"#0d0887\"],[0.1111111111111111,\"#46039f\"],[0.2222222222222222,\"#7201a8\"],[0.3333333333333333,\"#9c179e\"],[0.4444444444444444,\"#bd3786\"],[0.5555555555555556,\"#d8576b\"],[0.6666666666666666,\"#ed7953\"],[0.7777777777777778,\"#fb9f3a\"],[0.8888888888888888,\"#fdca26\"],[1.0,\"#f0f921\"]],\"diverging\":[[0,\"#8e0152\"],[0.1,\"#c51b7d\"],[0.2,\"#de77ae\"],[0.3,\"#f1b6da\"],[0.4,\"#fde0ef\"],[0.5,\"#f7f7f7\"],[0.6,\"#e6f5d0\"],[0.7,\"#b8e186\"],[0.8,\"#7fbc41\"],[0.9,\"#4d9221\"],[1,\"#276419\"]]},\"xaxis\":{\"gridcolor\":\"white\",\"linecolor\":\"white\",\"ticks\":\"\",\"title\":{\"standoff\":15},\"zerolinecolor\":\"white\",\"automargin\":true,\"zerolinewidth\":2},\"yaxis\":{\"gridcolor\":\"white\",\"linecolor\":\"white\",\"ticks\":\"\",\"title\":{\"standoff\":15},\"zerolinecolor\":\"white\",\"automargin\":true,\"zerolinewidth\":2},\"scene\":{\"xaxis\":{\"backgroundcolor\":\"#E5ECF6\",\"gridcolor\":\"white\",\"linecolor\":\"white\",\"showbackground\":true,\"ticks\":\"\",\"zerolinecolor\":\"white\",\"gridwidth\":2},\"yaxis\":{\"backgroundcolor\":\"#E5ECF6\",\"gridcolor\":\"white\",\"linecolor\":\"white\",\"showbackground\":true,\"ticks\":\"\",\"zerolinecolor\":\"white\",\"gridwidth\":2},\"zaxis\":{\"backgroundcolor\":\"#E5ECF6\",\"gridcolor\":\"white\",\"linecolor\":\"white\",\"showbackground\":true,\"ticks\":\"\",\"zerolinecolor\":\"white\",\"gridwidth\":2}},\"shapedefaults\":{\"line\":{\"color\":\"#2a3f5f\"}},\"annotationdefaults\":{\"arrowcolor\":\"#2a3f5f\",\"arrowhead\":0,\"arrowwidth\":1},\"geo\":{\"bgcolor\":\"white\",\"landcolor\":\"#E5ECF6\",\"subunitcolor\":\"white\",\"showland\":true,\"showlakes\":true,\"lakecolor\":\"white\"},\"title\":{\"x\":0.05},\"mapbox\":{\"style\":\"light\"}}},\"legend\":{\"tracegroupgap\":0},\"title\":{\"text\":\"ASL Class Distribution\"}},                        {\"responsive\": true}                    ).then(function(){\n                            \nvar gd = document.getElementById('9ced8b70-01f3-4888-ae5a-01067c15804b');\nvar x = new MutationObserver(function (mutations, observer) {{\n        var display = window.getComputedStyle(gd).display;\n        if (!display || display === 'none') {{\n            console.log([gd, 'removed!']);\n            Plotly.purge(gd);\n            observer.disconnect();\n        }}\n}});\n\n// Listen for the removal of the full notebook cells\nvar notebookContainer = gd.closest('#notebook-container');\nif (notebookContainer) {{\n    x.observe(notebookContainer, {childList: true});\n}}\n\n// Listen for the clearing of the current output cell\nvar outputEl = gd.closest('.output');\nif (outputEl) {{\n    x.observe(outputEl, {childList: true});\n}}\n\n                        })                };                });            </script>        </div>"
          },
          "metadata": {}
        },
        {
          "name": "stderr",
          "text": "/opt/conda/lib/python3.10/site-packages/plotly/express/_core.py:2065: FutureWarning:\n\nWhen grouping with a length-1 list-like, you will need to pass a length-1 tuple to get_group in a future version of pandas. Pass `(name,)` instead of `name` to silence this warning.\n\n",
          "output_type": "stream"
        },
        {
          "output_type": "display_data",
          "data": {
            "text/html": "<div>                            <div id=\"3f0ac04f-09c4-43a9-a3f2-0d8b989fbabd\" class=\"plotly-graph-div\" style=\"height:525px; width:100%;\"></div>            <script type=\"text/javascript\">                require([\"plotly\"], function(Plotly) {                    window.PLOTLYENV=window.PLOTLYENV || {};                                    if (document.getElementById(\"3f0ac04f-09c4-43a9-a3f2-0d8b989fbabd\")) {                    Plotly.newPlot(                        \"3f0ac04f-09c4-43a9-a3f2-0d8b989fbabd\",                        [{\"alignmentgroup\":\"True\",\"hovertemplate\":\"color=A\\u003cbr\\u003ex=%{x}\\u003cbr\\u003ey=%{y}\\u003cextra\\u003e\\u003c\\u002fextra\\u003e\",\"legendgroup\":\"A\",\"marker\":{\"color\":\"#636efa\",\"pattern\":{\"shape\":\"\"}},\"name\":\"A\",\"offsetgroup\":\"A\",\"orientation\":\"v\",\"showlegend\":true,\"textposition\":\"auto\",\"x\":[\"A\"],\"xaxis\":\"x\",\"y\":[3000],\"yaxis\":\"y\",\"type\":\"bar\"},{\"alignmentgroup\":\"True\",\"hovertemplate\":\"color=B\\u003cbr\\u003ex=%{x}\\u003cbr\\u003ey=%{y}\\u003cextra\\u003e\\u003c\\u002fextra\\u003e\",\"legendgroup\":\"B\",\"marker\":{\"color\":\"#EF553B\",\"pattern\":{\"shape\":\"\"}},\"name\":\"B\",\"offsetgroup\":\"B\",\"orientation\":\"v\",\"showlegend\":true,\"textposition\":\"auto\",\"x\":[\"B\"],\"xaxis\":\"x\",\"y\":[3000],\"yaxis\":\"y\",\"type\":\"bar\"},{\"alignmentgroup\":\"True\",\"hovertemplate\":\"color=C\\u003cbr\\u003ex=%{x}\\u003cbr\\u003ey=%{y}\\u003cextra\\u003e\\u003c\\u002fextra\\u003e\",\"legendgroup\":\"C\",\"marker\":{\"color\":\"#00cc96\",\"pattern\":{\"shape\":\"\"}},\"name\":\"C\",\"offsetgroup\":\"C\",\"orientation\":\"v\",\"showlegend\":true,\"textposition\":\"auto\",\"x\":[\"C\"],\"xaxis\":\"x\",\"y\":[3000],\"yaxis\":\"y\",\"type\":\"bar\"},{\"alignmentgroup\":\"True\",\"hovertemplate\":\"color=D\\u003cbr\\u003ex=%{x}\\u003cbr\\u003ey=%{y}\\u003cextra\\u003e\\u003c\\u002fextra\\u003e\",\"legendgroup\":\"D\",\"marker\":{\"color\":\"#ab63fa\",\"pattern\":{\"shape\":\"\"}},\"name\":\"D\",\"offsetgroup\":\"D\",\"orientation\":\"v\",\"showlegend\":true,\"textposition\":\"auto\",\"x\":[\"D\"],\"xaxis\":\"x\",\"y\":[3000],\"yaxis\":\"y\",\"type\":\"bar\"},{\"alignmentgroup\":\"True\",\"hovertemplate\":\"color=E\\u003cbr\\u003ex=%{x}\\u003cbr\\u003ey=%{y}\\u003cextra\\u003e\\u003c\\u002fextra\\u003e\",\"legendgroup\":\"E\",\"marker\":{\"color\":\"#FFA15A\",\"pattern\":{\"shape\":\"\"}},\"name\":\"E\",\"offsetgroup\":\"E\",\"orientation\":\"v\",\"showlegend\":true,\"textposition\":\"auto\",\"x\":[\"E\"],\"xaxis\":\"x\",\"y\":[3000],\"yaxis\":\"y\",\"type\":\"bar\"},{\"alignmentgroup\":\"True\",\"hovertemplate\":\"color=F\\u003cbr\\u003ex=%{x}\\u003cbr\\u003ey=%{y}\\u003cextra\\u003e\\u003c\\u002fextra\\u003e\",\"legendgroup\":\"F\",\"marker\":{\"color\":\"#19d3f3\",\"pattern\":{\"shape\":\"\"}},\"name\":\"F\",\"offsetgroup\":\"F\",\"orientation\":\"v\",\"showlegend\":true,\"textposition\":\"auto\",\"x\":[\"F\"],\"xaxis\":\"x\",\"y\":[3000],\"yaxis\":\"y\",\"type\":\"bar\"},{\"alignmentgroup\":\"True\",\"hovertemplate\":\"color=G\\u003cbr\\u003ex=%{x}\\u003cbr\\u003ey=%{y}\\u003cextra\\u003e\\u003c\\u002fextra\\u003e\",\"legendgroup\":\"G\",\"marker\":{\"color\":\"#FF6692\",\"pattern\":{\"shape\":\"\"}},\"name\":\"G\",\"offsetgroup\":\"G\",\"orientation\":\"v\",\"showlegend\":true,\"textposition\":\"auto\",\"x\":[\"G\"],\"xaxis\":\"x\",\"y\":[3000],\"yaxis\":\"y\",\"type\":\"bar\"},{\"alignmentgroup\":\"True\",\"hovertemplate\":\"color=H\\u003cbr\\u003ex=%{x}\\u003cbr\\u003ey=%{y}\\u003cextra\\u003e\\u003c\\u002fextra\\u003e\",\"legendgroup\":\"H\",\"marker\":{\"color\":\"#B6E880\",\"pattern\":{\"shape\":\"\"}},\"name\":\"H\",\"offsetgroup\":\"H\",\"orientation\":\"v\",\"showlegend\":true,\"textposition\":\"auto\",\"x\":[\"H\"],\"xaxis\":\"x\",\"y\":[3000],\"yaxis\":\"y\",\"type\":\"bar\"},{\"alignmentgroup\":\"True\",\"hovertemplate\":\"color=I\\u003cbr\\u003ex=%{x}\\u003cbr\\u003ey=%{y}\\u003cextra\\u003e\\u003c\\u002fextra\\u003e\",\"legendgroup\":\"I\",\"marker\":{\"color\":\"#FF97FF\",\"pattern\":{\"shape\":\"\"}},\"name\":\"I\",\"offsetgroup\":\"I\",\"orientation\":\"v\",\"showlegend\":true,\"textposition\":\"auto\",\"x\":[\"I\"],\"xaxis\":\"x\",\"y\":[3000],\"yaxis\":\"y\",\"type\":\"bar\"},{\"alignmentgroup\":\"True\",\"hovertemplate\":\"color=J\\u003cbr\\u003ex=%{x}\\u003cbr\\u003ey=%{y}\\u003cextra\\u003e\\u003c\\u002fextra\\u003e\",\"legendgroup\":\"J\",\"marker\":{\"color\":\"#FECB52\",\"pattern\":{\"shape\":\"\"}},\"name\":\"J\",\"offsetgroup\":\"J\",\"orientation\":\"v\",\"showlegend\":true,\"textposition\":\"auto\",\"x\":[\"J\"],\"xaxis\":\"x\",\"y\":[3000],\"yaxis\":\"y\",\"type\":\"bar\"},{\"alignmentgroup\":\"True\",\"hovertemplate\":\"color=K\\u003cbr\\u003ex=%{x}\\u003cbr\\u003ey=%{y}\\u003cextra\\u003e\\u003c\\u002fextra\\u003e\",\"legendgroup\":\"K\",\"marker\":{\"color\":\"#636efa\",\"pattern\":{\"shape\":\"\"}},\"name\":\"K\",\"offsetgroup\":\"K\",\"orientation\":\"v\",\"showlegend\":true,\"textposition\":\"auto\",\"x\":[\"K\"],\"xaxis\":\"x\",\"y\":[3000],\"yaxis\":\"y\",\"type\":\"bar\"},{\"alignmentgroup\":\"True\",\"hovertemplate\":\"color=L\\u003cbr\\u003ex=%{x}\\u003cbr\\u003ey=%{y}\\u003cextra\\u003e\\u003c\\u002fextra\\u003e\",\"legendgroup\":\"L\",\"marker\":{\"color\":\"#EF553B\",\"pattern\":{\"shape\":\"\"}},\"name\":\"L\",\"offsetgroup\":\"L\",\"orientation\":\"v\",\"showlegend\":true,\"textposition\":\"auto\",\"x\":[\"L\"],\"xaxis\":\"x\",\"y\":[3000],\"yaxis\":\"y\",\"type\":\"bar\"},{\"alignmentgroup\":\"True\",\"hovertemplate\":\"color=M\\u003cbr\\u003ex=%{x}\\u003cbr\\u003ey=%{y}\\u003cextra\\u003e\\u003c\\u002fextra\\u003e\",\"legendgroup\":\"M\",\"marker\":{\"color\":\"#00cc96\",\"pattern\":{\"shape\":\"\"}},\"name\":\"M\",\"offsetgroup\":\"M\",\"orientation\":\"v\",\"showlegend\":true,\"textposition\":\"auto\",\"x\":[\"M\"],\"xaxis\":\"x\",\"y\":[3000],\"yaxis\":\"y\",\"type\":\"bar\"},{\"alignmentgroup\":\"True\",\"hovertemplate\":\"color=N\\u003cbr\\u003ex=%{x}\\u003cbr\\u003ey=%{y}\\u003cextra\\u003e\\u003c\\u002fextra\\u003e\",\"legendgroup\":\"N\",\"marker\":{\"color\":\"#ab63fa\",\"pattern\":{\"shape\":\"\"}},\"name\":\"N\",\"offsetgroup\":\"N\",\"orientation\":\"v\",\"showlegend\":true,\"textposition\":\"auto\",\"x\":[\"N\"],\"xaxis\":\"x\",\"y\":[3000],\"yaxis\":\"y\",\"type\":\"bar\"},{\"alignmentgroup\":\"True\",\"hovertemplate\":\"color=O\\u003cbr\\u003ex=%{x}\\u003cbr\\u003ey=%{y}\\u003cextra\\u003e\\u003c\\u002fextra\\u003e\",\"legendgroup\":\"O\",\"marker\":{\"color\":\"#FFA15A\",\"pattern\":{\"shape\":\"\"}},\"name\":\"O\",\"offsetgroup\":\"O\",\"orientation\":\"v\",\"showlegend\":true,\"textposition\":\"auto\",\"x\":[\"O\"],\"xaxis\":\"x\",\"y\":[3000],\"yaxis\":\"y\",\"type\":\"bar\"},{\"alignmentgroup\":\"True\",\"hovertemplate\":\"color=P\\u003cbr\\u003ex=%{x}\\u003cbr\\u003ey=%{y}\\u003cextra\\u003e\\u003c\\u002fextra\\u003e\",\"legendgroup\":\"P\",\"marker\":{\"color\":\"#19d3f3\",\"pattern\":{\"shape\":\"\"}},\"name\":\"P\",\"offsetgroup\":\"P\",\"orientation\":\"v\",\"showlegend\":true,\"textposition\":\"auto\",\"x\":[\"P\"],\"xaxis\":\"x\",\"y\":[3000],\"yaxis\":\"y\",\"type\":\"bar\"},{\"alignmentgroup\":\"True\",\"hovertemplate\":\"color=Q\\u003cbr\\u003ex=%{x}\\u003cbr\\u003ey=%{y}\\u003cextra\\u003e\\u003c\\u002fextra\\u003e\",\"legendgroup\":\"Q\",\"marker\":{\"color\":\"#FF6692\",\"pattern\":{\"shape\":\"\"}},\"name\":\"Q\",\"offsetgroup\":\"Q\",\"orientation\":\"v\",\"showlegend\":true,\"textposition\":\"auto\",\"x\":[\"Q\"],\"xaxis\":\"x\",\"y\":[3000],\"yaxis\":\"y\",\"type\":\"bar\"},{\"alignmentgroup\":\"True\",\"hovertemplate\":\"color=R\\u003cbr\\u003ex=%{x}\\u003cbr\\u003ey=%{y}\\u003cextra\\u003e\\u003c\\u002fextra\\u003e\",\"legendgroup\":\"R\",\"marker\":{\"color\":\"#B6E880\",\"pattern\":{\"shape\":\"\"}},\"name\":\"R\",\"offsetgroup\":\"R\",\"orientation\":\"v\",\"showlegend\":true,\"textposition\":\"auto\",\"x\":[\"R\"],\"xaxis\":\"x\",\"y\":[3000],\"yaxis\":\"y\",\"type\":\"bar\"},{\"alignmentgroup\":\"True\",\"hovertemplate\":\"color=S\\u003cbr\\u003ex=%{x}\\u003cbr\\u003ey=%{y}\\u003cextra\\u003e\\u003c\\u002fextra\\u003e\",\"legendgroup\":\"S\",\"marker\":{\"color\":\"#FF97FF\",\"pattern\":{\"shape\":\"\"}},\"name\":\"S\",\"offsetgroup\":\"S\",\"orientation\":\"v\",\"showlegend\":true,\"textposition\":\"auto\",\"x\":[\"S\"],\"xaxis\":\"x\",\"y\":[3000],\"yaxis\":\"y\",\"type\":\"bar\"},{\"alignmentgroup\":\"True\",\"hovertemplate\":\"color=T\\u003cbr\\u003ex=%{x}\\u003cbr\\u003ey=%{y}\\u003cextra\\u003e\\u003c\\u002fextra\\u003e\",\"legendgroup\":\"T\",\"marker\":{\"color\":\"#FECB52\",\"pattern\":{\"shape\":\"\"}},\"name\":\"T\",\"offsetgroup\":\"T\",\"orientation\":\"v\",\"showlegend\":true,\"textposition\":\"auto\",\"x\":[\"T\"],\"xaxis\":\"x\",\"y\":[3000],\"yaxis\":\"y\",\"type\":\"bar\"},{\"alignmentgroup\":\"True\",\"hovertemplate\":\"color=U\\u003cbr\\u003ex=%{x}\\u003cbr\\u003ey=%{y}\\u003cextra\\u003e\\u003c\\u002fextra\\u003e\",\"legendgroup\":\"U\",\"marker\":{\"color\":\"#636efa\",\"pattern\":{\"shape\":\"\"}},\"name\":\"U\",\"offsetgroup\":\"U\",\"orientation\":\"v\",\"showlegend\":true,\"textposition\":\"auto\",\"x\":[\"U\"],\"xaxis\":\"x\",\"y\":[3000],\"yaxis\":\"y\",\"type\":\"bar\"},{\"alignmentgroup\":\"True\",\"hovertemplate\":\"color=V\\u003cbr\\u003ex=%{x}\\u003cbr\\u003ey=%{y}\\u003cextra\\u003e\\u003c\\u002fextra\\u003e\",\"legendgroup\":\"V\",\"marker\":{\"color\":\"#EF553B\",\"pattern\":{\"shape\":\"\"}},\"name\":\"V\",\"offsetgroup\":\"V\",\"orientation\":\"v\",\"showlegend\":true,\"textposition\":\"auto\",\"x\":[\"V\"],\"xaxis\":\"x\",\"y\":[3000],\"yaxis\":\"y\",\"type\":\"bar\"},{\"alignmentgroup\":\"True\",\"hovertemplate\":\"color=W\\u003cbr\\u003ex=%{x}\\u003cbr\\u003ey=%{y}\\u003cextra\\u003e\\u003c\\u002fextra\\u003e\",\"legendgroup\":\"W\",\"marker\":{\"color\":\"#00cc96\",\"pattern\":{\"shape\":\"\"}},\"name\":\"W\",\"offsetgroup\":\"W\",\"orientation\":\"v\",\"showlegend\":true,\"textposition\":\"auto\",\"x\":[\"W\"],\"xaxis\":\"x\",\"y\":[3000],\"yaxis\":\"y\",\"type\":\"bar\"},{\"alignmentgroup\":\"True\",\"hovertemplate\":\"color=X\\u003cbr\\u003ex=%{x}\\u003cbr\\u003ey=%{y}\\u003cextra\\u003e\\u003c\\u002fextra\\u003e\",\"legendgroup\":\"X\",\"marker\":{\"color\":\"#ab63fa\",\"pattern\":{\"shape\":\"\"}},\"name\":\"X\",\"offsetgroup\":\"X\",\"orientation\":\"v\",\"showlegend\":true,\"textposition\":\"auto\",\"x\":[\"X\"],\"xaxis\":\"x\",\"y\":[3000],\"yaxis\":\"y\",\"type\":\"bar\"},{\"alignmentgroup\":\"True\",\"hovertemplate\":\"color=Y\\u003cbr\\u003ex=%{x}\\u003cbr\\u003ey=%{y}\\u003cextra\\u003e\\u003c\\u002fextra\\u003e\",\"legendgroup\":\"Y\",\"marker\":{\"color\":\"#FFA15A\",\"pattern\":{\"shape\":\"\"}},\"name\":\"Y\",\"offsetgroup\":\"Y\",\"orientation\":\"v\",\"showlegend\":true,\"textposition\":\"auto\",\"x\":[\"Y\"],\"xaxis\":\"x\",\"y\":[3000],\"yaxis\":\"y\",\"type\":\"bar\"},{\"alignmentgroup\":\"True\",\"hovertemplate\":\"color=Z\\u003cbr\\u003ex=%{x}\\u003cbr\\u003ey=%{y}\\u003cextra\\u003e\\u003c\\u002fextra\\u003e\",\"legendgroup\":\"Z\",\"marker\":{\"color\":\"#19d3f3\",\"pattern\":{\"shape\":\"\"}},\"name\":\"Z\",\"offsetgroup\":\"Z\",\"orientation\":\"v\",\"showlegend\":true,\"textposition\":\"auto\",\"x\":[\"Z\"],\"xaxis\":\"x\",\"y\":[3000],\"yaxis\":\"y\",\"type\":\"bar\"},{\"alignmentgroup\":\"True\",\"hovertemplate\":\"color=del\\u003cbr\\u003ex=%{x}\\u003cbr\\u003ey=%{y}\\u003cextra\\u003e\\u003c\\u002fextra\\u003e\",\"legendgroup\":\"del\",\"marker\":{\"color\":\"#FF6692\",\"pattern\":{\"shape\":\"\"}},\"name\":\"del\",\"offsetgroup\":\"del\",\"orientation\":\"v\",\"showlegend\":true,\"textposition\":\"auto\",\"x\":[\"del\"],\"xaxis\":\"x\",\"y\":[3000],\"yaxis\":\"y\",\"type\":\"bar\"},{\"alignmentgroup\":\"True\",\"hovertemplate\":\"color=nothing\\u003cbr\\u003ex=%{x}\\u003cbr\\u003ey=%{y}\\u003cextra\\u003e\\u003c\\u002fextra\\u003e\",\"legendgroup\":\"nothing\",\"marker\":{\"color\":\"#B6E880\",\"pattern\":{\"shape\":\"\"}},\"name\":\"nothing\",\"offsetgroup\":\"nothing\",\"orientation\":\"v\",\"showlegend\":true,\"textposition\":\"auto\",\"x\":[\"nothing\"],\"xaxis\":\"x\",\"y\":[3000],\"yaxis\":\"y\",\"type\":\"bar\"},{\"alignmentgroup\":\"True\",\"hovertemplate\":\"color=space\\u003cbr\\u003ex=%{x}\\u003cbr\\u003ey=%{y}\\u003cextra\\u003e\\u003c\\u002fextra\\u003e\",\"legendgroup\":\"space\",\"marker\":{\"color\":\"#FF97FF\",\"pattern\":{\"shape\":\"\"}},\"name\":\"space\",\"offsetgroup\":\"space\",\"orientation\":\"v\",\"showlegend\":true,\"textposition\":\"auto\",\"x\":[\"space\"],\"xaxis\":\"x\",\"y\":[3000],\"yaxis\":\"y\",\"type\":\"bar\"}],                        {\"template\":{\"data\":{\"histogram2dcontour\":[{\"type\":\"histogram2dcontour\",\"colorbar\":{\"outlinewidth\":0,\"ticks\":\"\"},\"colorscale\":[[0.0,\"#0d0887\"],[0.1111111111111111,\"#46039f\"],[0.2222222222222222,\"#7201a8\"],[0.3333333333333333,\"#9c179e\"],[0.4444444444444444,\"#bd3786\"],[0.5555555555555556,\"#d8576b\"],[0.6666666666666666,\"#ed7953\"],[0.7777777777777778,\"#fb9f3a\"],[0.8888888888888888,\"#fdca26\"],[1.0,\"#f0f921\"]]}],\"choropleth\":[{\"type\":\"choropleth\",\"colorbar\":{\"outlinewidth\":0,\"ticks\":\"\"}}],\"histogram2d\":[{\"type\":\"histogram2d\",\"colorbar\":{\"outlinewidth\":0,\"ticks\":\"\"},\"colorscale\":[[0.0,\"#0d0887\"],[0.1111111111111111,\"#46039f\"],[0.2222222222222222,\"#7201a8\"],[0.3333333333333333,\"#9c179e\"],[0.4444444444444444,\"#bd3786\"],[0.5555555555555556,\"#d8576b\"],[0.6666666666666666,\"#ed7953\"],[0.7777777777777778,\"#fb9f3a\"],[0.8888888888888888,\"#fdca26\"],[1.0,\"#f0f921\"]]}],\"heatmap\":[{\"type\":\"heatmap\",\"colorbar\":{\"outlinewidth\":0,\"ticks\":\"\"},\"colorscale\":[[0.0,\"#0d0887\"],[0.1111111111111111,\"#46039f\"],[0.2222222222222222,\"#7201a8\"],[0.3333333333333333,\"#9c179e\"],[0.4444444444444444,\"#bd3786\"],[0.5555555555555556,\"#d8576b\"],[0.6666666666666666,\"#ed7953\"],[0.7777777777777778,\"#fb9f3a\"],[0.8888888888888888,\"#fdca26\"],[1.0,\"#f0f921\"]]}],\"heatmapgl\":[{\"type\":\"heatmapgl\",\"colorbar\":{\"outlinewidth\":0,\"ticks\":\"\"},\"colorscale\":[[0.0,\"#0d0887\"],[0.1111111111111111,\"#46039f\"],[0.2222222222222222,\"#7201a8\"],[0.3333333333333333,\"#9c179e\"],[0.4444444444444444,\"#bd3786\"],[0.5555555555555556,\"#d8576b\"],[0.6666666666666666,\"#ed7953\"],[0.7777777777777778,\"#fb9f3a\"],[0.8888888888888888,\"#fdca26\"],[1.0,\"#f0f921\"]]}],\"contourcarpet\":[{\"type\":\"contourcarpet\",\"colorbar\":{\"outlinewidth\":0,\"ticks\":\"\"}}],\"contour\":[{\"type\":\"contour\",\"colorbar\":{\"outlinewidth\":0,\"ticks\":\"\"},\"colorscale\":[[0.0,\"#0d0887\"],[0.1111111111111111,\"#46039f\"],[0.2222222222222222,\"#7201a8\"],[0.3333333333333333,\"#9c179e\"],[0.4444444444444444,\"#bd3786\"],[0.5555555555555556,\"#d8576b\"],[0.6666666666666666,\"#ed7953\"],[0.7777777777777778,\"#fb9f3a\"],[0.8888888888888888,\"#fdca26\"],[1.0,\"#f0f921\"]]}],\"surface\":[{\"type\":\"surface\",\"colorbar\":{\"outlinewidth\":0,\"ticks\":\"\"},\"colorscale\":[[0.0,\"#0d0887\"],[0.1111111111111111,\"#46039f\"],[0.2222222222222222,\"#7201a8\"],[0.3333333333333333,\"#9c179e\"],[0.4444444444444444,\"#bd3786\"],[0.5555555555555556,\"#d8576b\"],[0.6666666666666666,\"#ed7953\"],[0.7777777777777778,\"#fb9f3a\"],[0.8888888888888888,\"#fdca26\"],[1.0,\"#f0f921\"]]}],\"mesh3d\":[{\"type\":\"mesh3d\",\"colorbar\":{\"outlinewidth\":0,\"ticks\":\"\"}}],\"scatter\":[{\"fillpattern\":{\"fillmode\":\"overlay\",\"size\":10,\"solidity\":0.2},\"type\":\"scatter\"}],\"parcoords\":[{\"type\":\"parcoords\",\"line\":{\"colorbar\":{\"outlinewidth\":0,\"ticks\":\"\"}}}],\"scatterpolargl\":[{\"type\":\"scatterpolargl\",\"marker\":{\"colorbar\":{\"outlinewidth\":0,\"ticks\":\"\"}}}],\"bar\":[{\"error_x\":{\"color\":\"#2a3f5f\"},\"error_y\":{\"color\":\"#2a3f5f\"},\"marker\":{\"line\":{\"color\":\"#E5ECF6\",\"width\":0.5},\"pattern\":{\"fillmode\":\"overlay\",\"size\":10,\"solidity\":0.2}},\"type\":\"bar\"}],\"scattergeo\":[{\"type\":\"scattergeo\",\"marker\":{\"colorbar\":{\"outlinewidth\":0,\"ticks\":\"\"}}}],\"scatterpolar\":[{\"type\":\"scatterpolar\",\"marker\":{\"colorbar\":{\"outlinewidth\":0,\"ticks\":\"\"}}}],\"histogram\":[{\"marker\":{\"pattern\":{\"fillmode\":\"overlay\",\"size\":10,\"solidity\":0.2}},\"type\":\"histogram\"}],\"scattergl\":[{\"type\":\"scattergl\",\"marker\":{\"colorbar\":{\"outlinewidth\":0,\"ticks\":\"\"}}}],\"scatter3d\":[{\"type\":\"scatter3d\",\"line\":{\"colorbar\":{\"outlinewidth\":0,\"ticks\":\"\"}},\"marker\":{\"colorbar\":{\"outlinewidth\":0,\"ticks\":\"\"}}}],\"scattermapbox\":[{\"type\":\"scattermapbox\",\"marker\":{\"colorbar\":{\"outlinewidth\":0,\"ticks\":\"\"}}}],\"scatterternary\":[{\"type\":\"scatterternary\",\"marker\":{\"colorbar\":{\"outlinewidth\":0,\"ticks\":\"\"}}}],\"scattercarpet\":[{\"type\":\"scattercarpet\",\"marker\":{\"colorbar\":{\"outlinewidth\":0,\"ticks\":\"\"}}}],\"carpet\":[{\"aaxis\":{\"endlinecolor\":\"#2a3f5f\",\"gridcolor\":\"white\",\"linecolor\":\"white\",\"minorgridcolor\":\"white\",\"startlinecolor\":\"#2a3f5f\"},\"baxis\":{\"endlinecolor\":\"#2a3f5f\",\"gridcolor\":\"white\",\"linecolor\":\"white\",\"minorgridcolor\":\"white\",\"startlinecolor\":\"#2a3f5f\"},\"type\":\"carpet\"}],\"table\":[{\"cells\":{\"fill\":{\"color\":\"#EBF0F8\"},\"line\":{\"color\":\"white\"}},\"header\":{\"fill\":{\"color\":\"#C8D4E3\"},\"line\":{\"color\":\"white\"}},\"type\":\"table\"}],\"barpolar\":[{\"marker\":{\"line\":{\"color\":\"#E5ECF6\",\"width\":0.5},\"pattern\":{\"fillmode\":\"overlay\",\"size\":10,\"solidity\":0.2}},\"type\":\"barpolar\"}],\"pie\":[{\"automargin\":true,\"type\":\"pie\"}]},\"layout\":{\"autotypenumbers\":\"strict\",\"colorway\":[\"#636efa\",\"#EF553B\",\"#00cc96\",\"#ab63fa\",\"#FFA15A\",\"#19d3f3\",\"#FF6692\",\"#B6E880\",\"#FF97FF\",\"#FECB52\"],\"font\":{\"color\":\"#2a3f5f\"},\"hovermode\":\"closest\",\"hoverlabel\":{\"align\":\"left\"},\"paper_bgcolor\":\"white\",\"plot_bgcolor\":\"#E5ECF6\",\"polar\":{\"bgcolor\":\"#E5ECF6\",\"angularaxis\":{\"gridcolor\":\"white\",\"linecolor\":\"white\",\"ticks\":\"\"},\"radialaxis\":{\"gridcolor\":\"white\",\"linecolor\":\"white\",\"ticks\":\"\"}},\"ternary\":{\"bgcolor\":\"#E5ECF6\",\"aaxis\":{\"gridcolor\":\"white\",\"linecolor\":\"white\",\"ticks\":\"\"},\"baxis\":{\"gridcolor\":\"white\",\"linecolor\":\"white\",\"ticks\":\"\"},\"caxis\":{\"gridcolor\":\"white\",\"linecolor\":\"white\",\"ticks\":\"\"}},\"coloraxis\":{\"colorbar\":{\"outlinewidth\":0,\"ticks\":\"\"}},\"colorscale\":{\"sequential\":[[0.0,\"#0d0887\"],[0.1111111111111111,\"#46039f\"],[0.2222222222222222,\"#7201a8\"],[0.3333333333333333,\"#9c179e\"],[0.4444444444444444,\"#bd3786\"],[0.5555555555555556,\"#d8576b\"],[0.6666666666666666,\"#ed7953\"],[0.7777777777777778,\"#fb9f3a\"],[0.8888888888888888,\"#fdca26\"],[1.0,\"#f0f921\"]],\"sequentialminus\":[[0.0,\"#0d0887\"],[0.1111111111111111,\"#46039f\"],[0.2222222222222222,\"#7201a8\"],[0.3333333333333333,\"#9c179e\"],[0.4444444444444444,\"#bd3786\"],[0.5555555555555556,\"#d8576b\"],[0.6666666666666666,\"#ed7953\"],[0.7777777777777778,\"#fb9f3a\"],[0.8888888888888888,\"#fdca26\"],[1.0,\"#f0f921\"]],\"diverging\":[[0,\"#8e0152\"],[0.1,\"#c51b7d\"],[0.2,\"#de77ae\"],[0.3,\"#f1b6da\"],[0.4,\"#fde0ef\"],[0.5,\"#f7f7f7\"],[0.6,\"#e6f5d0\"],[0.7,\"#b8e186\"],[0.8,\"#7fbc41\"],[0.9,\"#4d9221\"],[1,\"#276419\"]]},\"xaxis\":{\"gridcolor\":\"white\",\"linecolor\":\"white\",\"ticks\":\"\",\"title\":{\"standoff\":15},\"zerolinecolor\":\"white\",\"automargin\":true,\"zerolinewidth\":2},\"yaxis\":{\"gridcolor\":\"white\",\"linecolor\":\"white\",\"ticks\":\"\",\"title\":{\"standoff\":15},\"zerolinecolor\":\"white\",\"automargin\":true,\"zerolinewidth\":2},\"scene\":{\"xaxis\":{\"backgroundcolor\":\"#E5ECF6\",\"gridcolor\":\"white\",\"linecolor\":\"white\",\"showbackground\":true,\"ticks\":\"\",\"zerolinecolor\":\"white\",\"gridwidth\":2},\"yaxis\":{\"backgroundcolor\":\"#E5ECF6\",\"gridcolor\":\"white\",\"linecolor\":\"white\",\"showbackground\":true,\"ticks\":\"\",\"zerolinecolor\":\"white\",\"gridwidth\":2},\"zaxis\":{\"backgroundcolor\":\"#E5ECF6\",\"gridcolor\":\"white\",\"linecolor\":\"white\",\"showbackground\":true,\"ticks\":\"\",\"zerolinecolor\":\"white\",\"gridwidth\":2}},\"shapedefaults\":{\"line\":{\"color\":\"#2a3f5f\"}},\"annotationdefaults\":{\"arrowcolor\":\"#2a3f5f\",\"arrowhead\":0,\"arrowwidth\":1},\"geo\":{\"bgcolor\":\"white\",\"landcolor\":\"#E5ECF6\",\"subunitcolor\":\"white\",\"showland\":true,\"showlakes\":true,\"lakecolor\":\"white\"},\"title\":{\"x\":0.05},\"mapbox\":{\"style\":\"light\"}}},\"xaxis\":{\"anchor\":\"y\",\"domain\":[0.0,1.0],\"title\":{}},\"yaxis\":{\"anchor\":\"x\",\"domain\":[0.0,1.0],\"title\":{\"text\":\"Frequency Count\"}},\"legend\":{\"title\":{\"text\":\"color\"},\"tracegroupgap\":0},\"title\":{\"text\":\"ASL Class Distribution\"},\"barmode\":\"relative\",\"showlegend\":false},                        {\"responsive\": true}                    ).then(function(){\n                            \nvar gd = document.getElementById('3f0ac04f-09c4-43a9-a3f2-0d8b989fbabd');\nvar x = new MutationObserver(function (mutations, observer) {{\n        var display = window.getComputedStyle(gd).display;\n        if (!display || display === 'none') {{\n            console.log([gd, 'removed!']);\n            Plotly.purge(gd);\n            observer.disconnect();\n        }}\n}});\n\n// Listen for the removal of the full notebook cells\nvar notebookContainer = gd.closest('#notebook-container');\nif (notebookContainer) {{\n    x.observe(notebookContainer, {childList: true});\n}}\n\n// Listen for the clearing of the current output cell\nvar outputEl = gd.closest('.output');\nif (outputEl) {{\n    x.observe(outputEl, {childList: true});\n}}\n\n                        })                };                });            </script>        </div>"
          },
          "metadata": {}
        }
      ]
    },
    {
      "cell_type": "markdown",
      "source": [
        "Excitingly, our dataset boasts 29 classes, each adorned with a petite yet robust collection of 3,000 images. The perfection of class distribution is paramount, eliminating any bias and ensuring equal attention to each class. This meticulous balance serves as a cornerstone, paving the way for a model that approaches every class with the same level of scrutiny. With no room for bias, our dataset becomes the ideal playground for training a model that harmoniously navigates the intricacies of each class."
      ],
      "metadata": {
        "id": "44zkLoewwGus"
      }
    },
    {
      "cell_type": "markdown",
      "source": [
        "# **Backbone Comparision 📑**"
      ],
      "metadata": {
        "id": "IPnAJScWwGus"
      }
    },
    {
      "cell_type": "markdown",
      "source": [
        "Having meticulously navigated through the essential phases of data preprocessing, visualization, and analysis, we now stand at the threshold of a pivotal juncture—the selection of the optimal transfer learning model or backbone. This critical decision is poised to propel our journey towards crafting a robust and efficient model at an accelerated pace."
      ],
      "metadata": {
        "id": "jhvU_BsrwGut"
      }
    },
    {
      "cell_type": "code",
      "source": [
        "# Initializing all the Backbones\n",
        "backbones = [\n",
        "    (\n",
        "        \"ResNet50V2\",\n",
        "        ResNet50V2(\n",
        "            input_shape = (*IMAGE_SIZE, 3),\n",
        "            weights = \"imagenet\",\n",
        "            include_top = False\n",
        "        )\n",
        "    ),\n",
        "\n",
        "    (\n",
        "        \"ResNet152V2\",\n",
        "        ResNet152V2(\n",
        "            input_shape = (*IMAGE_SIZE, 3),\n",
        "            weights = \"imagenet\",\n",
        "            include_top = False\n",
        "        )\n",
        "    ),\n",
        "\n",
        "    (\n",
        "        \"Xception\",\n",
        "        Xception(\n",
        "            input_shape = (*IMAGE_SIZE, 3),\n",
        "            weights = \"imagenet\",\n",
        "            include_top = False\n",
        "        )\n",
        "    ),\n",
        "\n",
        "    (\n",
        "        \"InceptionV3\",\n",
        "        InceptionV3(\n",
        "            input_shape = (*IMAGE_SIZE, 3),\n",
        "            weights = \"imagenet\",\n",
        "            include_top = False\n",
        "        )\n",
        "    ),\n",
        "\n",
        "    (\n",
        "        \"MobileNetV2\",\n",
        "        MobileNetV2(\n",
        "            input_shape = (*IMAGE_SIZE, 3),\n",
        "            weights = \"imagenet\",\n",
        "            include_top = False\n",
        "        )\n",
        "    ),\n",
        "\n",
        "    (\n",
        "        \"MobileNetV3Small\",\n",
        "        MobileNetV3Small(\n",
        "            input_shape = (*IMAGE_SIZE, 3),\n",
        "            weights = \"imagenet\",\n",
        "            include_top = False\n",
        "        )\n",
        "    ),\n",
        "]"
      ],
      "metadata": {
        "execution": {
          "iopub.status.busy": "2024-02-17T00:39:38.680294Z",
          "iopub.execute_input": "2024-02-17T00:39:38.680585Z",
          "iopub.status.idle": "2024-02-17T00:39:38.686083Z",
          "shell.execute_reply.started": "2024-02-17T00:39:38.680560Z",
          "shell.execute_reply": "2024-02-17T00:39:38.684967Z"
        },
        "trusted": true,
        "id": "brhhJh_XwGuu"
      },
      "execution_count": null,
      "outputs": []
    },
    {
      "cell_type": "code",
      "source": [
        "# Recording backbone history\n",
        "BACKBONE_HISTORIES = {}\n",
        "\n",
        "# New batch size for fast bacnkbone testing\n",
        "train_data.batch_size = 16\n",
        "\n",
        "# Loop over backbones\n",
        "for (name, backbone) in backbones:\n",
        "\n",
        "    print(f\"Testing : {name}\")\n",
        "\n",
        "    # Freeze the Model weights\n",
        "    backbone.trainable = False\n",
        "\n",
        "    # Creating a base model\n",
        "    model = keras.Sequential([\n",
        "        layers.InputLayer((*IMAGE_SIZE, 3), name = \"InputLayer\"),\n",
        "        backbone,\n",
        "        layers.Dropout(0.2, name = \"SlightDropout\"),\n",
        "        layers.GlobalAveragePooling2D(name = \"GAP2D\"),\n",
        "        layers.Dense(n_classes, activation=\"softmax\")\n",
        "    ])\n",
        "\n",
        "    # Train the model for few iterations\n",
        "    model.compile(\n",
        "        loss = \"sparse_categorical_crossentropy\",\n",
        "        optimizer = \"adam\",\n",
        "        metrics = ['accuracy']\n",
        "    )\n",
        "\n",
        "    history = model.fit(\n",
        "        train_data,\n",
        "        validation_data = valid_data,\n",
        "        epochs = 5,\n",
        "    )\n",
        "\n",
        "    BACKBONE_HISTORIES[name] = pd.DataFrame(history.history)\n",
        "    cls()\n",
        "    print(\"\\n\")\n"
      ],
      "metadata": {
        "execution": {
          "iopub.status.busy": "2024-02-17T00:39:38.687428Z",
          "iopub.execute_input": "2024-02-17T00:39:38.687879Z",
          "iopub.status.idle": "2024-02-17T00:39:38.712925Z",
          "shell.execute_reply.started": "2024-02-17T00:39:38.687838Z",
          "shell.execute_reply": "2024-02-17T00:39:38.712126Z"
        },
        "trusted": true,
        "id": "r3g0_A4BwGuu"
      },
      "execution_count": null,
      "outputs": []
    },
    {
      "cell_type": "markdown",
      "source": [
        "Let's visualize the learning curves of the backbones. This will allow us to evaluate which backbone to choose for final model building."
      ],
      "metadata": {
        "id": "s4Hv47e-wGuv"
      }
    },
    {
      "cell_type": "code",
      "source": [
        "# Displying the Learning curves\n",
        "for metric in ['loss', 'accuracy']:\n",
        "\n",
        "    # Visualizing Training and validation scores\n",
        "    plt.figure(figsize=(15, 5))\n",
        "    for i, sub in enumerate(['Train', 'Val']):\n",
        "\n",
        "        plt.subplot(1, 2, i+1)\n",
        "        plt.title(f\"{sub} {metric} Plot\")\n",
        "\n",
        "        # Looping over all the backbones\n",
        "        for name, history in BACKBONE_HISTORIES.items():\n",
        "\n",
        "            # It had the worst performance\n",
        "            if name==\"MobileNetV3Small\":\n",
        "                break\n",
        "\n",
        "            plt.plot(history[metric] if sub==\"Train\" else history[f\"val_{metric}\"], label = name)\n",
        "            plt.xlabel(\"Epochs\")\n",
        "            plt.ylabel(metric.title())\n",
        "            plt.grid()\n",
        "            plt.legend()\n",
        "\n",
        "    plt.tight_layout()\n",
        "    plt.savefig(f\"{metric.title()}_LC.png\")\n",
        "    plt.show()"
      ],
      "metadata": {
        "execution": {
          "iopub.status.busy": "2024-02-17T00:39:38.713936Z",
          "iopub.execute_input": "2024-02-17T00:39:38.714178Z",
          "iopub.status.idle": "2024-02-17T00:39:38.727682Z",
          "shell.execute_reply.started": "2024-02-17T00:39:38.714157Z",
          "shell.execute_reply": "2024-02-17T00:39:38.726487Z"
        },
        "trusted": true,
        "id": "gvqW0SoVwGuv"
      },
      "execution_count": null,
      "outputs": []
    },
    {
      "cell_type": "markdown",
      "source": [
        "In our quest to identify the most promising backbone, a noteworthy observation emerges — each model exhibits signs of overfitting. Surprisingly, this turns out to be a positive indicator at this juncture, signaling that every contender comprehends the intricacies of our dataset. The standout performer in this race appears to be ResNet-152V2. Notably, at the third epoch, it showcased remarkable performance, followed by a slight dip in the subsequent epoch, yet still maintaining a strong position in the validation stage. Exception, though displaying a transient dip in performance, remained a contender during evaluation.\n",
        "\n",
        "On the contrary, Inception proved sluggish and exhibited signs of severe overfitting, making it less favorable for robustness. Considering the balance between speed and accuracy, ResNet-152V2 emerges as the frontrunner. Its efficacy in both speed and accuracy, coupled with its established track record, positions it as the backbone of choice. While ResNet-50 also presents a strong case, ResNet-152V2's performance edge makes it the prime candidate for our model's foundation. With these deliberations in mind, we embark on the next phase of our journey, leveraging ResNet-152V2 as the key architectural element in our pursuit of crafting a robust and effective sign language detection model."
      ],
      "metadata": {
        "id": "lwHW2qRswGuw"
      }
    },
    {
      "cell_type": "markdown",
      "source": [
        "# **Model Building 👨‍🏭**"
      ],
      "metadata": {
        "id": "mv-ubklrwGuy"
      }
    },
    {
      "cell_type": "markdown",
      "source": [
        "Having identified the optimal backbone in ResNet-152V2, our focus now shifts towards sculpting the best overall architecture for a robust performance. To expedite this intricate process, we leverage the Keras Tuner, employing its Random Search algorithm. This dynamic tool becomes our ally, diligently exploring a spectrum of hyperparameters and parameters to unveil the model configuration that excels in both training and validation stages.\n",
        "\n",
        "The Keras Tuner serves as our compass in the vast landscape of potential architectures, allowing us to navigate efficiently and effectively towards the pinnacle of model performance. As we embark on this quest, the synergy between ResNet-152V2 and the Keras Tuner promises to unearth a finely-tuned and robust sign language detection model.\n",
        "\n",
        "With the Random Search algorithm as our guide, the journey unfolds, poised to reveal the architectural gem that encapsulates the essence of speed, accuracy, and resilience. Let the exploration of optimal model configurations commence, ushering us closer to the realization of a powerful and efficient sign language detection model."
      ],
      "metadata": {
        "id": "GZsWQQUXwGuy"
      }
    },
    {
      "cell_type": "code",
      "source": [
        "def build_model(hps):\n",
        "\n",
        "    # Loading Backbone\n",
        "    backbone = ResNet152V2(\n",
        "        input_shape = (*IMAGE_SIZE, 3),\n",
        "        weights = \"imagenet\",\n",
        "        include_top = False\n",
        "    )\n",
        "\n",
        "    # Parameter Search\n",
        "    rate = hps.Choice('rate', [0.2, 0.4, 0.6])\n",
        "    n_layers = hps.Choice('n_layers', [2,4,6])\n",
        "    units = hps.Choice('n_units', [64, 128, 256])\n",
        "    optim = hps.Choice('optimizer', ['adam', 'rmsprop'])\n",
        "    use_bn = hps.Choice('use_bn', [True, False])\n",
        "\n",
        "    # Building Model\n",
        "    model = Sequential([\n",
        "        layers.InputLayer((*IMAGE_SIZE, 3)),\n",
        "        backbone,\n",
        "        layers.GlobalAveragePooling2D(),\n",
        "    ])\n",
        "\n",
        "    # Top model layers\n",
        "    for _ in range(n_layers):\n",
        "        if use_bn:\n",
        "            model.add(layers.BatchNormalization())\n",
        "        model.add(layers.Dense(units, activation='relu', kernel_initializer=\"he_normal\"))\n",
        "\n",
        "    # Add Ouput layer\n",
        "    model.add(layers.Dropout(rate))\n",
        "    model.add(layers.Dense(n_classes, activation=\"softmax\"))\n",
        "\n",
        "    # Compile Model\n",
        "    model.compile(\n",
        "        loss = \"sparse_categorical_crossentropy\",\n",
        "        optimizer = optim,\n",
        "        metrics = ['accuracy'],\n",
        "        callbacks = [keras.callbacks.EarlyStopping(patience=5, restore_best_weights=True)]\n",
        "    )\n",
        "\n",
        "    return model"
      ],
      "metadata": {
        "execution": {
          "iopub.status.busy": "2024-02-17T00:39:38.728743Z",
          "iopub.execute_input": "2024-02-17T00:39:38.729002Z",
          "iopub.status.idle": "2024-02-17T00:39:38.739457Z",
          "shell.execute_reply.started": "2024-02-17T00:39:38.728979Z",
          "shell.execute_reply": "2024-02-17T00:39:38.738528Z"
        },
        "trusted": true,
        "id": "FetnLHwQwGuz"
      },
      "execution_count": null,
      "outputs": []
    },
    {
      "cell_type": "code",
      "source": [
        "# Initialize Random Searcher\n",
        "random_searcher = kt.RandomSearch(\n",
        "    hypermodel=build_model,\n",
        "    objective='val_accuracy',\n",
        "    max_trials=10,\n",
        "    project_name=\"ASLModelSearch\",\n",
        "    seed=42,\n",
        ")\n",
        "\n",
        "# Start Searching\n",
        "search = random_searcher.search(\n",
        "    train_data,\n",
        "    validation_data=valid_data,\n",
        "    epochs = 10,\n",
        ")"
      ],
      "metadata": {
        "execution": {
          "iopub.status.busy": "2024-02-17T00:39:38.740635Z",
          "iopub.execute_input": "2024-02-17T00:39:38.740901Z",
          "iopub.status.idle": "2024-02-17T00:39:38.750282Z",
          "shell.execute_reply.started": "2024-02-17T00:39:38.740878Z",
          "shell.execute_reply": "2024-02-17T00:39:38.749548Z"
        },
        "trusted": true,
        "id": "KtzlmIQYwGu0"
      },
      "execution_count": null,
      "outputs": []
    },
    {
      "cell_type": "code",
      "source": [
        "# Loading Backbone\n",
        "backbone = ResNet152V2(\n",
        "    input_shape = (*IMAGE_SIZE, 3),\n",
        "    weights = \"imagenet\",\n",
        "    include_top = False\n",
        ")\n",
        "\n",
        "# Parameter Search\n",
        "rate = 0.2\n",
        "n_layers = 2\n",
        "units = 128\n",
        "optim = 'adam'\n",
        "use_bn = False\n",
        "\n",
        "# Building Model\n",
        "model = Sequential([\n",
        "    layers.InputLayer((*IMAGE_SIZE, 3)),\n",
        "    backbone,\n",
        "    layers.GlobalAveragePooling2D(),\n",
        "], name=\"ASL-ResNet152V2\")\n",
        "\n",
        "# Top model layers\n",
        "for _ in range(n_layers):\n",
        "    if use_bn:\n",
        "        model.add(layers.BatchNormalization())\n",
        "    model.add(layers.Dense(units, activation='relu', kernel_initializer=\"he_normal\"))\n",
        "\n",
        "# Add Ouput layer\n",
        "model.add(layers.Dropout(rate))\n",
        "model.add(layers.Dense(n_classes, activation=\"softmax\"))\n",
        "\n",
        "# Compile Model\n",
        "model.compile(\n",
        "    loss = \"sparse_categorical_crossentropy\",\n",
        "    optimizer = optim,\n",
        "    metrics = ['accuracy'],\n",
        ")\n",
        "\n",
        "# Model Architecture\n",
        "model.summary()"
      ],
      "metadata": {
        "execution": {
          "iopub.status.busy": "2024-02-17T00:39:38.751353Z",
          "iopub.execute_input": "2024-02-17T00:39:38.751830Z",
          "iopub.status.idle": "2024-02-17T00:39:47.057351Z",
          "shell.execute_reply.started": "2024-02-17T00:39:38.751805Z",
          "shell.execute_reply": "2024-02-17T00:39:47.056306Z"
        },
        "trusted": true,
        "id": "AFnp7a-vwGu0",
        "outputId": "23104f1e-e867-4fa0-dc1f-7b3efb77df18"
      },
      "execution_count": null,
      "outputs": [
        {
          "name": "stdout",
          "text": "Downloading data from https://storage.googleapis.com/tensorflow/keras-applications/resnet/resnet152v2_weights_tf_dim_ordering_tf_kernels_notop.h5\n234545216/234545216 [==============================] - 1s 0us/step\nModel: \"ASL-ResNet152V2\"\n_________________________________________________________________\n Layer (type)                Output Shape              Param #   \n=================================================================\n resnet152v2 (Functional)    (None, 7, 7, 2048)        58331648  \n                                                                 \n global_average_pooling2d (  (None, 2048)              0         \n GlobalAveragePooling2D)                                         \n                                                                 \n dense (Dense)               (None, 128)               262272    \n                                                                 \n dense_1 (Dense)             (None, 128)               16512     \n                                                                 \n dropout (Dropout)           (None, 128)               0         \n                                                                 \n dense_2 (Dense)             (None, 29)                3741      \n                                                                 \n=================================================================\nTotal params: 58614173 (223.60 MB)\nTrainable params: 58470429 (223.05 MB)\nNon-trainable params: 143744 (561.50 KB)\n_________________________________________________________________\n",
          "output_type": "stream"
        }
      ]
    },
    {
      "cell_type": "code",
      "source": [
        "# Model Training\n",
        "history = model.fit(\n",
        "    train_data,\n",
        "    validation_data = valid_data,\n",
        "    epochs = 20,\n",
        "    callbacks = [\n",
        "        keras.callbacks.EarlyStopping(patience=5, restore_best_weights=True),\n",
        "        keras.callbacks.ModelCheckpoint(\"ASL-ResNet152V2.keras\", save_best_only=True),\n",
        "    ]\n",
        ")"
      ],
      "metadata": {
        "execution": {
          "iopub.status.busy": "2024-02-17T00:39:47.058807Z",
          "iopub.execute_input": "2024-02-17T00:39:47.059146Z",
          "iopub.status.idle": "2024-02-17T02:44:20.282232Z",
          "shell.execute_reply.started": "2024-02-17T00:39:47.059115Z",
          "shell.execute_reply": "2024-02-17T02:44:20.281251Z"
        },
        "trusted": true,
        "id": "2_wq31qrwGu1",
        "outputId": "3d0189e5-3374-478e-87d8-abdf5b0b66d4"
      },
      "execution_count": null,
      "outputs": [
        {
          "name": "stdout",
          "text": "Epoch 1/20\n",
          "output_type": "stream"
        },
        {
          "name": "stderr",
          "text": "WARNING: All log messages before absl::InitializeLog() is called are written to STDERR\nI0000 00:00:1708130441.522394     115 device_compiler.h:186] Compiled cluster using XLA!  This line is logged at most once for the lifetime of the process.\n",
          "output_type": "stream"
        },
        {
          "name": "stdout",
          "text": "1088/1088 [==============================] - 1178s 999ms/step - loss: 0.2014 - accuracy: 0.9418 - val_loss: 0.5151 - val_accuracy: 0.8890\nEpoch 2/20\n1088/1088 [==============================] - 903s 830ms/step - loss: 0.0368 - accuracy: 0.9894 - val_loss: 0.1400 - val_accuracy: 0.9650\nEpoch 3/20\n1088/1088 [==============================] - 906s 832ms/step - loss: 0.0235 - accuracy: 0.9932 - val_loss: 0.0990 - val_accuracy: 0.9778\nEpoch 4/20\n1088/1088 [==============================] - 895s 822ms/step - loss: 0.0280 - accuracy: 0.9926 - val_loss: 0.2196 - val_accuracy: 0.9357\nEpoch 5/20\n1088/1088 [==============================] - 897s 824ms/step - loss: 0.0220 - accuracy: 0.9944 - val_loss: 0.1314 - val_accuracy: 0.9689\nEpoch 6/20\n1088/1088 [==============================] - 898s 825ms/step - loss: 0.0198 - accuracy: 0.9946 - val_loss: 0.3604 - val_accuracy: 0.9057\nEpoch 7/20\n1088/1088 [==============================] - 896s 824ms/step - loss: 0.0128 - accuracy: 0.9968 - val_loss: 1.7073 - val_accuracy: 0.7583\nEpoch 8/20\n1088/1088 [==============================] - 900s 827ms/step - loss: 0.0130 - accuracy: 0.9967 - val_loss: 0.2743 - val_accuracy: 0.9333\n",
          "output_type": "stream"
        }
      ]
    },
    {
      "cell_type": "code",
      "source": [
        "test_loss, test_acc = model.evaluate(test_images, test_labels)\n",
        "print(f\"Test Loss: {test_loss}\")\n",
        "print(f\"Test Acc : {test_acc}\")"
      ],
      "metadata": {
        "execution": {
          "iopub.status.busy": "2024-02-17T03:00:57.281735Z",
          "iopub.execute_input": "2024-02-17T03:00:57.282127Z",
          "iopub.status.idle": "2024-02-17T03:00:57.529817Z",
          "shell.execute_reply.started": "2024-02-17T03:00:57.282091Z",
          "shell.execute_reply": "2024-02-17T03:00:57.528894Z"
        },
        "trusted": true,
        "id": "1V32BFipwGu1",
        "outputId": "522a9a5a-4b6a-4816-e89d-1dc4b801ce37"
      },
      "execution_count": null,
      "outputs": [
        {
          "name": "stdout",
          "text": "1/1 [==============================] - 0s 171ms/step - loss: 1.5284e-06 - accuracy: 1.0000\nTest Loss: 1.5284260825865204e-06\nTest Acc : 1.0\n",
          "output_type": "stream"
        }
      ]
    },
    {
      "cell_type": "code",
      "source": [
        "model.evaluate(train_data)"
      ],
      "metadata": {
        "execution": {
          "iopub.status.busy": "2024-02-17T02:53:52.533283Z",
          "iopub.execute_input": "2024-02-17T02:53:52.534114Z",
          "iopub.status.idle": "2024-02-17T02:59:07.471002Z",
          "shell.execute_reply.started": "2024-02-17T02:53:52.534065Z",
          "shell.execute_reply": "2024-02-17T02:59:07.470159Z"
        },
        "trusted": true,
        "id": "84LCoWPLwGu2",
        "outputId": "8e6f5667-7f2d-4af6-93cc-fd82556c90c1"
      },
      "execution_count": null,
      "outputs": [
        {
          "name": "stdout",
          "text": "1088/1088 [==============================] - 315s 289ms/step - loss: 0.0018 - accuracy: 0.9995\n",
          "output_type": "stream"
        },
        {
          "execution_count": 19,
          "output_type": "execute_result",
          "data": {
            "text/plain": "[0.0018078760476782918, 0.99949711561203]"
          },
          "metadata": {}
        }
      ]
    }
  ]
}